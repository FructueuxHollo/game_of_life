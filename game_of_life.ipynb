{
 "cells": [
  {
   "cell_type": "code",
   "execution_count": 19,
   "id": "fd9216ef",
   "metadata": {},
   "outputs": [
    {
     "name": "stdout",
     "output_type": "stream",
     "text": [
      "Using matplotlib backend: Qt5Agg\n"
     ]
    }
   ],
   "source": [
    "import numpy as np\n",
    "import matplotlib.pyplot as plt\n",
    "import matplotlib.animation as animation\n",
    "\n",
    "%matplotlib\n",
    "b1= 50; b2=50\n",
    "# Création de l'image binaire en damier\n",
    "image = np.zeros((b1, b2))\n",
    "image[10:27,26:27] = 1 \n",
    "\n",
    "# Fonction d'initialisation de l'animation\n",
    "def init():\n",
    "    ax.imshow(image, cmap='binary')\n",
    "    \n",
    "    return [ax]\n",
    "\n",
    "# Fonction de mise à jour de l'animation\n",
    "def normal(number):\n",
    "    return not (number>=b1 or number>=b2 or number<0)\n",
    "\n",
    "def count_black_neighbors(damier,i,j):\n",
    "    nb = 0\n",
    "    for plus_on_ligne in [-1, 0,1]:\n",
    "        for plus_on_col in [-1, 0,1]:\n",
    "            \n",
    "            ligne = i+plus_on_ligne\n",
    "            col    = j+plus_on_col\n",
    "\n",
    "            if normal(ligne) and normal(col) and (ligne, col)!=(i,j):\n",
    "                nb +=  damier[ligne, col] == 1\n",
    "                \n",
    "    return nb\n",
    "\n",
    "def update(frame):\n",
    "    \n",
    "    # follow the rule of game of life\n",
    "    cp = image.copy()\n",
    "    \n",
    "    for i in range(b1):\n",
    "        for j in range(b2):\n",
    "            n = count_black_neighbors(cp,i,j)\n",
    "            \n",
    "            if(cp[i,j] == 1 and (n != 3 and n != 2)):\n",
    "                image[i,j] = 0\n",
    "                \n",
    "            if(cp[i,j] == 0 and n == 3):\n",
    "                image[i,j] = 1\n",
    "                \n",
    "    plt.imshow(image, cmap='binary')\n",
    "\n",
    "# Création de la figure et de l'axe\n",
    "fig, ax = plt.subplots()\n",
    "\n",
    "# Création de l'animation\n",
    "anim = animation.FuncAnimation(fig, update, init_func=init)\n",
    "\n",
    "# Affichage de l'animation\n",
    "plt.show()\n"
   ]
  },
  {
   "cell_type": "code",
   "execution_count": null,
   "id": "2cd8f139",
   "metadata": {},
   "outputs": [],
   "source": []
  }
 ],
 "metadata": {
  "kernelspec": {
   "display_name": "Python 3 (ipykernel)",
   "language": "python",
   "name": "python3"
  },
  "language_info": {
   "codemirror_mode": {
    "name": "ipython",
    "version": 3
   },
   "file_extension": ".py",
   "mimetype": "text/x-python",
   "name": "python",
   "nbconvert_exporter": "python",
   "pygments_lexer": "ipython3",
   "version": "3.9.7"
  }
 },
 "nbformat": 4,
 "nbformat_minor": 5
}
